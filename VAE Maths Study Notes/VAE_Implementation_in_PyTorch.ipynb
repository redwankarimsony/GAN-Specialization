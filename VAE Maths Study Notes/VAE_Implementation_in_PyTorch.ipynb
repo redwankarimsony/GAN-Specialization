{
  "nbformat": 4,
  "nbformat_minor": 0,
  "metadata": {
    "colab": {
      "name": "VAE Implementation in PyTorch.ipynb",
      "provenance": [],
      "collapsed_sections": []
    },
    "kernelspec": {
      "name": "python3",
      "display_name": "Python 3"
    }
  },
  "cells": [
    {
      "cell_type": "code",
      "metadata": {
        "id": "Ta0i_ilJojPk"
      },
      "source": [
        "import torch"
      ],
      "execution_count": 7,
      "outputs": []
    },
    {
      "cell_type": "code",
      "metadata": {
        "colab": {
          "base_uri": "https://localhost:8080/"
        },
        "id": "FDbxaAdwoysW",
        "outputId": "f26b4e99-de36-4934-f581-395061be742e"
      },
      "source": [
        "p = torch.distributions.Normal(2,4)\n",
        "q = torch.distributions.Normal(0,1)\n",
        "z = p.rsample()\n",
        "\n",
        "log_pz = p.log_prob(z)\n",
        "log_qzx = q.log_prob(z)\n",
        "\n",
        "print(f'log prob of z in  p: {log_pz}   prob of z in p {torch.exp(log_pz)}')\n",
        "print(f'log prob of z in  q: {log_qzx}   prob of z in q {torch.exp(log_qzx)}')\n"
      ],
      "execution_count": 31,
      "outputs": [
        {
          "output_type": "stream",
          "text": [
            "log prob of z in  p: -2.7912936210632324   prob of z in p 0.06134181097149849\n",
            "log prob of z in  q: -18.583602905273438   prob of z in q 8.49657322277153e-09\n"
          ],
          "name": "stdout"
        }
      ]
    },
    {
      "cell_type": "code",
      "metadata": {
        "colab": {
          "base_uri": "https://localhost:8080/"
        },
        "id": "wBHy_FhQpwyY",
        "outputId": "33957c5d-c00d-4949-b893-612e87deb68d"
      },
      "source": [
        "kl_divergence = log_qzx - log_pz\n",
        "print(kl_divergence)"
      ],
      "execution_count": 32,
      "outputs": [
        {
          "output_type": "stream",
          "text": [
            "tensor(-15.7923)\n"
          ],
          "name": "stdout"
        }
      ]
    },
    {
      "cell_type": "code",
      "metadata": {
        "id": "TTPGttMGu885"
      },
      "source": [
        "def kl_divergence(z, mu, std):\n",
        "    #-----------------------------------------\n",
        "    # Monte Karlo KL divergence\n",
        "    #-----------------------------------------\n",
        "    # 1. Define the first two probabilities (here normal for both)\\\n",
        "    p = torch.distributions.Normal(torch.zeros_like(mu), torch.ones_like(std))\n",
        "    q = torch.distributions.Normal(mu, std)\n",
        "\n",
        "    log_qzx = q.log_prob(z)\n",
        "    log_pz = p.log_prob(z)\n",
        "\n",
        "    kl = log_qzx - log_pz\n",
        "\n",
        "    kl = kl.sum(-1)\n",
        "    return kl"
      ],
      "execution_count": 33,
      "outputs": []
    },
    {
      "cell_type": "code",
      "metadata": {
        "colab": {
          "base_uri": "https://localhost:8080/"
        },
        "id": "byCwRtb4wour",
        "outputId": "0b817ec8-2561-4a77-bd76-9c9c188cc691"
      },
      "source": [
        "kl_divergence(torch.tensor([1.]), torch.tensor([0.5]), torch.tensor([1. ]))"
      ],
      "execution_count": 36,
      "outputs": [
        {
          "output_type": "execute_result",
          "data": {
            "text/plain": [
              "tensor(0.3750)"
            ]
          },
          "metadata": {
            "tags": []
          },
          "execution_count": 36
        }
      ]
    },
    {
      "cell_type": "code",
      "metadata": {
        "id": "D-O3oS_YxCkZ"
      },
      "source": [
        ""
      ],
      "execution_count": null,
      "outputs": []
    }
  ]
}